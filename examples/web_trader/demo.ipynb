{
 "cells": [
  {
   "cell_type": "code",
   "execution_count": null,
   "metadata": {},
   "outputs": [],
   "source": [
    "import requests\n",
    "import json\n",
    "import websocket\n",
    "\n",
    "URL = \"http://localhost:5000/\""
   ]
  },
  {
   "cell_type": "code",
   "execution_count": null,
   "metadata": {},
   "outputs": [],
   "source": [
    "# 登录\n",
    "req = {\n",
    "    \"username\": \"test\",\n",
    "    \"password\": \"test\"\n",
    "}\n",
    "\n",
    "r = requests.get(URL + \"token\", req)\n",
    "data = r.json()\n",
    "\n",
    "print(data)\n",
    "token = data[\"data\"]"
   ]
  },
  {
   "cell_type": "code",
   "execution_count": null,
   "metadata": {},
   "outputs": [],
   "source": [
    "# 查询接口\n",
    "req = {\n",
    "    \"token\": token\n",
    "}\n",
    "\n",
    "r = requests.get(URL + \"gateway\", req)\n",
    "data = r.json()\n",
    "\n",
    "print(data)"
   ]
  },
  {
   "cell_type": "code",
   "execution_count": null,
   "metadata": {},
   "outputs": [],
   "source": [
    "# 登录接口\n",
    "setting = json.dumps({\n",
    "    \"ID\": \"\",\n",
    "    \"Secret\": \"\",\n",
    "    \"会话数\": 3,\n",
    "    \"服务器\": \"REAL\",\n",
    "    \"代理地址\": \"127.0.0.1\",\n",
    "    \"代理端口\": \"1080\"\n",
    "})\n",
    "req = {\n",
    "    \"token\": token,\n",
    "    \"setting\": setting,\n",
    "    \"gateway_name\": \"BITMEX\"\n",
    "}\n",
    "\n",
    "r = requests.post(URL + \"gateway\", req)\n",
    "data = r.json()\n",
    "\n",
    "print(data)"
   ]
  },
  {
   "cell_type": "code",
   "execution_count": null,
   "metadata": {},
   "outputs": [],
   "source": [
    "# 查询价差\n",
    "req = {\n",
    "    \"token\": token\n",
    "}\n",
    "\n",
    "r = requests.get(URL + \"spread\", req)\n",
    "data = r.json()\n",
    "\n",
    "print(data)"
   ]
  },
  {
   "cell_type": "code",
   "execution_count": null,
   "metadata": {},
   "outputs": [],
   "source": [
    "# 添加价差\n",
    "leg_settings = []\n",
    "leg_settings.append({\n",
    "    \"vt_symbol\": \"XBTUSD.BITMEX\",\n",
    "    \"trading_multiplier\": 1,\n",
    "    \"price_multiplier\": 1,\n",
    "    \"inverse_contract\": True,\n",
    "})\n",
    "leg_settings.append({\n",
    "    \"vt_symbol\": \"XBTH20.BITMEX\",\n",
    "    \"trading_multiplier\": -1,\n",
    "    \"price_multiplier\": -1,\n",
    "    \"inverse_contract\": True,\n",
    "})\n",
    "\n",
    "req = {\n",
    "    \"token\": token,\n",
    "    \"name\": \"xbt_demo\",\n",
    "    \"leg_settings\": json.dumps(leg_settings),\n",
    "    \"active_symbol\": \"XBTUSD.BITMEX\",\n",
    "    \"min_volume\": 0.1\n",
    "}\n",
    "\n",
    "r = requests.post(URL + \"spread\", req)\n",
    "data = r.json()\n",
    "\n",
    "print(data)"
   ]
  },
  {
   "cell_type": "code",
   "execution_count": null,
   "metadata": {
    "scrolled": false
   },
   "outputs": [],
   "source": [
    "# 订阅推送\n",
    "ws = websocket.WebSocket()\n",
    "ws.connect(\"ws://localhost:5000/event\")\n",
    "\n",
    "while True:\n",
    "    msg = ws.recv()\n",
    "    print(msg)"
   ]
  },
  {
   "cell_type": "code",
   "execution_count": null,
   "metadata": {},
   "outputs": [],
   "source": []
  }
 ],
 "metadata": {
  "kernelspec": {
   "display_name": "Python 3",
   "language": "python",
   "name": "python3"
  },
  "language_info": {
   "codemirror_mode": {
    "name": "ipython",
    "version": 3
   },
   "file_extension": ".py",
   "mimetype": "text/x-python",
   "name": "python",
   "nbconvert_exporter": "python",
   "pygments_lexer": "ipython3",
   "version": "3.7.4"
  }
 },
 "nbformat": 4,
 "nbformat_minor": 2
}
