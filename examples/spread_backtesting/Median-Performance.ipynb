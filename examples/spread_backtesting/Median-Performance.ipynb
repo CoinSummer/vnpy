{
 "cells": [
  {
   "cell_type": "code",
   "execution_count": 1,
   "metadata": {
    "scrolled": false
   },
   "outputs": [],
   "source": [
    "import numpy as np\n",
    "\n",
    "# 这里缓存的队列数据，推荐使用numpy.array，对后续计算方便很多\n",
    "# 动态添加数据的方法，参考vnpy.trader.utility.ArrayManager\n",
    "data = np.random.rand(1000)"
   ]
  },
  {
   "cell_type": "code",
   "execution_count": 7,
   "metadata": {},
   "outputs": [],
   "source": [
    "import heapq\n",
    "\n",
    "class MidFinder:\n",
    "\n",
    "    def __init__(self):\n",
    "        self.min_heap = []\n",
    "        self.max_heap = []\n",
    "        self.count = 0\n",
    "\n",
    "    def insert(self, num):\n",
    "        heapq.heappush(self.min_heap, num)\n",
    "        temp = heapq.heappop(self.min_heap)\n",
    "        heapq.heappush(self.max_heap, -temp)\n",
    "        \n",
    "        if self.count & 1 == 0:\n",
    "            temp = -heapq.heappop(self.max_heap)\n",
    "            heapq.heappush(self.min_heap, temp)\n",
    "        self.count += 1\n",
    "        \n",
    "    def get_heap_all(self):\n",
    "        return self.min_heap + self.max_heap\n",
    "    \n",
    "    def get_lower_quartile(self):\n",
    "        pass\n",
    "    \n",
    "    def getMedian(self) -> float:\n",
    "        if self.count & 1 == 1:\n",
    "            mid = self.min_heap[0]\n",
    "        else:\n",
    "            mid = (self.min_heap[0] + (-self.max_heap[0])) / 2\n",
    "        #\n",
    "        \n",
    "        return mid\n",
    "\n",
    "    def clear(self):\n",
    "        self.min_heap = []\n",
    "        self.max_heap = []\n",
    "        self.count = 0"
   ]
  },
  {
   "cell_type": "code",
   "execution_count": 3,
   "metadata": {
    "scrolled": true
   },
   "outputs": [
    {
     "name": "stdout",
     "output_type": "stream",
     "text": [
      "result 0.5062062767256035\n",
      "2.94 ms ± 116 µs per loop (mean ± std. dev. of 7 runs, 100 loops each)\n"
     ]
    }
   ],
   "source": [
    "def test_finder():\n",
    "    finder = MidFinder()\n",
    "    for i in data:\n",
    "        finder.insert(i)\n",
    "    mid = finder.getMedian()\n",
    "    return mid\n",
    "\n",
    "print(\"result\", test_finder())\n",
    "%timeit test_finder()"
   ]
  },
  {
   "cell_type": "code",
   "execution_count": 4,
   "metadata": {},
   "outputs": [
    {
     "name": "stdout",
     "output_type": "stream",
     "text": [
      "result 0.5062062767256035\n",
      "540 µs ± 32.2 µs per loop (mean ± std. dev. of 7 runs, 1000 loops each)\n"
     ]
    }
   ],
   "source": [
    "import statistics\n",
    "\n",
    "def test_statistics():\n",
    "    return statistics.median(data)\n",
    "\n",
    "print(\"result\", test_statistics())\n",
    "%timeit test_statistics()"
   ]
  },
  {
   "cell_type": "code",
   "execution_count": 5,
   "metadata": {},
   "outputs": [
    {
     "name": "stdout",
     "output_type": "stream",
     "text": [
      "result 0.5062062767256035\n",
      "75 µs ± 2.07 µs per loop (mean ± std. dev. of 7 runs, 10000 loops each)\n"
     ]
    }
   ],
   "source": [
    "def test_numpy():\n",
    "    return np.median(data)\n",
    "\n",
    "print(\"result\", test_numpy())\n",
    "%timeit test_numpy()"
   ]
  },
  {
   "cell_type": "code",
   "execution_count": 6,
   "metadata": {
    "scrolled": false
   },
   "outputs": [
    {
     "name": "stdout",
     "output_type": "stream",
     "text": [
      "result 0.5062062767256035\n",
      "8.97 µs ± 551 ns per loop (mean ± std. dev. of 7 runs, 100000 loops each)\n"
     ]
    }
   ],
   "source": [
    "import numba\n",
    "\n",
    "@numba.jit(\"float64(float64[:])\")\n",
    "def test_numba(data):\n",
    "    i = np.median(data)\n",
    "    return i\n",
    "\n",
    "print(\"result\", test_numba(data))\n",
    "%timeit test_numba(data)"
   ]
  },
  {
   "cell_type": "code",
   "execution_count": null,
   "metadata": {},
   "outputs": [],
   "source": []
  }
 ],
 "metadata": {
  "kernelspec": {
   "display_name": "Python 3",
   "language": "python",
   "name": "python3"
  },
  "language_info": {
   "codemirror_mode": {
    "name": "ipython",
    "version": 3
   },
   "file_extension": ".py",
   "mimetype": "text/x-python",
   "name": "python",
   "nbconvert_exporter": "python",
   "pygments_lexer": "ipython3",
   "version": "3.7.4"
  }
 },
 "nbformat": 4,
 "nbformat_minor": 4
}
